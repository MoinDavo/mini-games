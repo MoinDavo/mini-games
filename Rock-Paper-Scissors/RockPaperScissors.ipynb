{
 "cells": [
  {
   "cell_type": "markdown",
   "id": "6acc5f9d-49fd-4170-8121-ef7bbf199b71",
   "metadata": {},
   "source": [
    "# A Rock-Paper-Scissors game in a ipynb"
   ]
  },
  {
   "cell_type": "code",
   "execution_count": 7,
   "id": "23224544-7152-4fc6-b214-3de958079f7a",
   "metadata": {
    "tags": []
   },
   "outputs": [],
   "source": [
    "import random\n",
    "import ipywidgets as widgets\n",
    "from IPython.display import clear_output\n",
    "\n",
    "CHOICES = [\"Rock\", \"Paper\", \"Scissors\"]"
   ]
  },
  {
   "cell_type": "code",
   "execution_count": 3,
   "id": "d0e4788a-f8f2-4ba4-930d-80e833aac0b9",
   "metadata": {
    "tags": []
   },
   "outputs": [],
   "source": [
    "# game logic\n",
    "def gameLogic(userInput):\n",
    "    # randomiser\n",
    "    randChoice = random.choice(CHOICES)\n",
    "    print(randChoice)\n",
    "\n",
    "    if userInput == \"Random\":\n",
    "        userInput = random.choice(CHOICES)\n",
    "        print(userInput)\n",
    "\n",
    "    match randChoice:\n",
    "           case \"Rock\":\n",
    "                  match userInput:\n",
    "                         case \"Rock\":\n",
    "                                print(\"Draw\")\n",
    "                         case \"Paper\":\n",
    "                                print(\"Win\")\n",
    "                         case \"Scissors\":\n",
    "                                print(\"Loose\")\n",
    "                         case _:\n",
    "                                print(\"err: user input\")\n",
    "       \n",
    "           case \"Paper\":\n",
    "                  match userInput:\n",
    "                         case \"Rock\":\n",
    "                                print(\"Loose\")\n",
    "                         case \"Paper\":\n",
    "                                print(\"Draw\")\n",
    "                         case \"Scissors\":\n",
    "                                print(\"Win\")\n",
    "                         case _:\n",
    "                                print(\"err: user input\")\n",
    "\n",
    "           case \"Scissors\":\n",
    "                  match userInput:\n",
    "                         case \"Rock\":\n",
    "                                print(\"Win\")\n",
    "                         case \"Paper\":\n",
    "                                print(\"Loose\")\n",
    "                         case \"Scissors\":\n",
    "                                print(\"Draw\")\n",
    "                         case _:\n",
    "                                print(\"err: user input\")\n",
    "           case _:\n",
    "                  print(\"err: randomiser\")"
   ]
  },
  {
   "cell_type": "code",
   "execution_count": 8,
   "id": "a106387e-c1d0-48ec-81aa-3205a1432c6d",
   "metadata": {
    "tags": []
   },
   "outputs": [],
   "source": [
    "# button behaviour\n",
    "def on_button_clicked(_):\n",
    "    with output:\n",
    "        clear_output()\n",
    "        gameLogic(userChoice.value)\n",
    "\n",
    "# definition of widgets\n",
    "userChoice = widgets.Dropdown(\n",
    "       options=['Random', 'Rock', 'Paper', 'Scissors'],\n",
    "       value='Random')\n",
    "\n",
    "playGame = widgets.Button(description='run logic')\n",
    "\n",
    "output = widgets.Output()\n",
    "\n",
    "playGame.on_click(on_button_clicked)\n",
    "\n",
    "# layout of widgtes\n",
    "uiInput = widgets.HBox([userChoice, playGame])\n",
    "uiOuput = widgets.HBox([output])\n",
    "ui = widgets.VBox([uiInput, uiOuput])"
   ]
  },
  {
   "cell_type": "code",
   "execution_count": 9,
   "id": "df70c3b8-15fe-4bf2-bfda-e48de21d5723",
   "metadata": {
    "tags": []
   },
   "outputs": [
    {
     "data": {
      "application/vnd.jupyter.widget-view+json": {
       "model_id": "719134c90fb049268c7f96e05ef524b2",
       "version_major": 2,
       "version_minor": 0
      },
      "text/plain": [
       "VBox(children=(HBox(children=(Dropdown(options=('Random', 'Rock', 'Paper', 'Scissors'), value='Random'), Butto…"
      ]
     },
     "execution_count": 9,
     "metadata": {},
     "output_type": "execute_result"
    }
   ],
   "source": [
    "# display ui\n",
    "ui"
   ]
  }
 ],
 "metadata": {
  "kernelspec": {
   "display_name": "Python 3 (ipykernel)",
   "language": "python",
   "name": "python3"
  },
  "language_info": {
   "codemirror_mode": {
    "name": "ipython",
    "version": 3
   },
   "file_extension": ".py",
   "mimetype": "text/x-python",
   "name": "python",
   "nbconvert_exporter": "python",
   "pygments_lexer": "ipython3",
   "version": "3.11.3"
  }
 },
 "nbformat": 4,
 "nbformat_minor": 5
}
